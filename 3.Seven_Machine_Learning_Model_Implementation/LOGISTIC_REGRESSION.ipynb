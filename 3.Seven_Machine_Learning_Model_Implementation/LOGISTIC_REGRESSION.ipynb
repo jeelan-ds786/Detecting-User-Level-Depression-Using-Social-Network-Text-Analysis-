{
  "cells": [
    {
      "cell_type": "markdown",
      "metadata": {
        "id": "LrPMyqKeTphp"
      },
      "source": [
        "<h1><center> LOGISTIC REGRESSION MODEL\n",
        "\n"
      ]
    },
    {
      "cell_type": "code",
      "execution_count": null,
      "metadata": {
        "id": "ZRi2E-aQSOq4"
      },
      "outputs": [],
      "source": [
        "import pandas as pd\n",
        "import numpy as np\n",
        "import matplotlib.pyplot as plt"
      ]
    },
    {
      "cell_type": "code",
      "source": [
        "from google.colab import files\n",
        "uploaded = files.upload()"
      ],
      "metadata": {
        "colab": {
          "base_uri": "https://localhost:8080/",
          "height": 73
        },
        "id": "HiHNYK1oSFN7",
        "outputId": "338afaa4-90c5-4dad-95ee-e0119d54556c"
      },
      "execution_count": null,
      "outputs": [
        {
          "output_type": "display_data",
          "data": {
            "text/plain": [
              "<IPython.core.display.HTML object>"
            ],
            "text/html": [
              "\n",
              "     <input type=\"file\" id=\"files-9428251c-430a-46cd-8db1-d7c8529a9550\" name=\"files[]\" multiple disabled\n",
              "        style=\"border:none\" />\n",
              "     <output id=\"result-9428251c-430a-46cd-8db1-d7c8529a9550\">\n",
              "      Upload widget is only available when the cell has been executed in the\n",
              "      current browser session. Please rerun this cell to enable.\n",
              "      </output>\n",
              "      <script>// Copyright 2017 Google LLC\n",
              "//\n",
              "// Licensed under the Apache License, Version 2.0 (the \"License\");\n",
              "// you may not use this file except in compliance with the License.\n",
              "// You may obtain a copy of the License at\n",
              "//\n",
              "//      http://www.apache.org/licenses/LICENSE-2.0\n",
              "//\n",
              "// Unless required by applicable law or agreed to in writing, software\n",
              "// distributed under the License is distributed on an \"AS IS\" BASIS,\n",
              "// WITHOUT WARRANTIES OR CONDITIONS OF ANY KIND, either express or implied.\n",
              "// See the License for the specific language governing permissions and\n",
              "// limitations under the License.\n",
              "\n",
              "/**\n",
              " * @fileoverview Helpers for google.colab Python module.\n",
              " */\n",
              "(function(scope) {\n",
              "function span(text, styleAttributes = {}) {\n",
              "  const element = document.createElement('span');\n",
              "  element.textContent = text;\n",
              "  for (const key of Object.keys(styleAttributes)) {\n",
              "    element.style[key] = styleAttributes[key];\n",
              "  }\n",
              "  return element;\n",
              "}\n",
              "\n",
              "// Max number of bytes which will be uploaded at a time.\n",
              "const MAX_PAYLOAD_SIZE = 100 * 1024;\n",
              "\n",
              "function _uploadFiles(inputId, outputId) {\n",
              "  const steps = uploadFilesStep(inputId, outputId);\n",
              "  const outputElement = document.getElementById(outputId);\n",
              "  // Cache steps on the outputElement to make it available for the next call\n",
              "  // to uploadFilesContinue from Python.\n",
              "  outputElement.steps = steps;\n",
              "\n",
              "  return _uploadFilesContinue(outputId);\n",
              "}\n",
              "\n",
              "// This is roughly an async generator (not supported in the browser yet),\n",
              "// where there are multiple asynchronous steps and the Python side is going\n",
              "// to poll for completion of each step.\n",
              "// This uses a Promise to block the python side on completion of each step,\n",
              "// then passes the result of the previous step as the input to the next step.\n",
              "function _uploadFilesContinue(outputId) {\n",
              "  const outputElement = document.getElementById(outputId);\n",
              "  const steps = outputElement.steps;\n",
              "\n",
              "  const next = steps.next(outputElement.lastPromiseValue);\n",
              "  return Promise.resolve(next.value.promise).then((value) => {\n",
              "    // Cache the last promise value to make it available to the next\n",
              "    // step of the generator.\n",
              "    outputElement.lastPromiseValue = value;\n",
              "    return next.value.response;\n",
              "  });\n",
              "}\n",
              "\n",
              "/**\n",
              " * Generator function which is called between each async step of the upload\n",
              " * process.\n",
              " * @param {string} inputId Element ID of the input file picker element.\n",
              " * @param {string} outputId Element ID of the output display.\n",
              " * @return {!Iterable<!Object>} Iterable of next steps.\n",
              " */\n",
              "function* uploadFilesStep(inputId, outputId) {\n",
              "  const inputElement = document.getElementById(inputId);\n",
              "  inputElement.disabled = false;\n",
              "\n",
              "  const outputElement = document.getElementById(outputId);\n",
              "  outputElement.innerHTML = '';\n",
              "\n",
              "  const pickedPromise = new Promise((resolve) => {\n",
              "    inputElement.addEventListener('change', (e) => {\n",
              "      resolve(e.target.files);\n",
              "    });\n",
              "  });\n",
              "\n",
              "  const cancel = document.createElement('button');\n",
              "  inputElement.parentElement.appendChild(cancel);\n",
              "  cancel.textContent = 'Cancel upload';\n",
              "  const cancelPromise = new Promise((resolve) => {\n",
              "    cancel.onclick = () => {\n",
              "      resolve(null);\n",
              "    };\n",
              "  });\n",
              "\n",
              "  // Wait for the user to pick the files.\n",
              "  const files = yield {\n",
              "    promise: Promise.race([pickedPromise, cancelPromise]),\n",
              "    response: {\n",
              "      action: 'starting',\n",
              "    }\n",
              "  };\n",
              "\n",
              "  cancel.remove();\n",
              "\n",
              "  // Disable the input element since further picks are not allowed.\n",
              "  inputElement.disabled = true;\n",
              "\n",
              "  if (!files) {\n",
              "    return {\n",
              "      response: {\n",
              "        action: 'complete',\n",
              "      }\n",
              "    };\n",
              "  }\n",
              "\n",
              "  for (const file of files) {\n",
              "    const li = document.createElement('li');\n",
              "    li.append(span(file.name, {fontWeight: 'bold'}));\n",
              "    li.append(span(\n",
              "        `(${file.type || 'n/a'}) - ${file.size} bytes, ` +\n",
              "        `last modified: ${\n",
              "            file.lastModifiedDate ? file.lastModifiedDate.toLocaleDateString() :\n",
              "                                    'n/a'} - `));\n",
              "    const percent = span('0% done');\n",
              "    li.appendChild(percent);\n",
              "\n",
              "    outputElement.appendChild(li);\n",
              "\n",
              "    const fileDataPromise = new Promise((resolve) => {\n",
              "      const reader = new FileReader();\n",
              "      reader.onload = (e) => {\n",
              "        resolve(e.target.result);\n",
              "      };\n",
              "      reader.readAsArrayBuffer(file);\n",
              "    });\n",
              "    // Wait for the data to be ready.\n",
              "    let fileData = yield {\n",
              "      promise: fileDataPromise,\n",
              "      response: {\n",
              "        action: 'continue',\n",
              "      }\n",
              "    };\n",
              "\n",
              "    // Use a chunked sending to avoid message size limits. See b/62115660.\n",
              "    let position = 0;\n",
              "    do {\n",
              "      const length = Math.min(fileData.byteLength - position, MAX_PAYLOAD_SIZE);\n",
              "      const chunk = new Uint8Array(fileData, position, length);\n",
              "      position += length;\n",
              "\n",
              "      const base64 = btoa(String.fromCharCode.apply(null, chunk));\n",
              "      yield {\n",
              "        response: {\n",
              "          action: 'append',\n",
              "          file: file.name,\n",
              "          data: base64,\n",
              "        },\n",
              "      };\n",
              "\n",
              "      let percentDone = fileData.byteLength === 0 ?\n",
              "          100 :\n",
              "          Math.round((position / fileData.byteLength) * 100);\n",
              "      percent.textContent = `${percentDone}% done`;\n",
              "\n",
              "    } while (position < fileData.byteLength);\n",
              "  }\n",
              "\n",
              "  // All done.\n",
              "  yield {\n",
              "    response: {\n",
              "      action: 'complete',\n",
              "    }\n",
              "  };\n",
              "}\n",
              "\n",
              "scope.google = scope.google || {};\n",
              "scope.google.colab = scope.google.colab || {};\n",
              "scope.google.colab._files = {\n",
              "  _uploadFiles,\n",
              "  _uploadFilesContinue,\n",
              "};\n",
              "})(self);\n",
              "</script> "
            ]
          },
          "metadata": {}
        },
        {
          "output_type": "stream",
          "name": "stdout",
          "text": [
            "Saving mypersonality_cleaned.csv to mypersonality_cleaned.csv\n"
          ]
        }
      ]
    },
    {
      "cell_type": "code",
      "execution_count": null,
      "metadata": {
        "colab": {
          "base_uri": "https://localhost:8080/",
          "height": 750
        },
        "id": "valvUC7uVAeV",
        "outputId": "d0c290e2-5408-470b-c38f-ff935e4401fa"
      },
      "outputs": [
        {
          "output_type": "execute_result",
          "data": {
            "text/plain": [
              "   Unnamed: 0                           #AUTHID  \\\n",
              "0           0  b7b7764cfa1c523e4e93ab2a79a946c4   \n",
              "1           1  b7b7764cfa1c523e4e93ab2a79a946c4   \n",
              "2           2  b7b7764cfa1c523e4e93ab2a79a946c4   \n",
              "3           3  b7b7764cfa1c523e4e93ab2a79a946c4   \n",
              "4           4  b7b7764cfa1c523e4e93ab2a79a946c4   \n",
              "\n",
              "                                              STATUS  sentiNEG  sentiPOS  \\\n",
              "0                        likes the sound of thunder.     0.000     0.412   \n",
              "1  is so sleepy it's not even funny that's she ca...     0.167     0.000   \n",
              "2  is sore and wants the knot of muscles at the b...     0.195     0.278   \n",
              "3         likes how the day sounds in this new song.     0.000     0.259   \n",
              "4                                        is home. <3     0.000     0.592   \n",
              "\n",
              "   sentiNEU  sentiCOMPOUND  sEXT  sNEU  sAGR  ...  cCON  cOPN  \\\n",
              "0     0.588         0.4215  2.65   3.0  3.15  ...     n     y   \n",
              "1     0.833        -0.3412  2.65   3.0  3.15  ...     n     y   \n",
              "2     0.527         0.6280  2.65   3.0  3.15  ...     n     y   \n",
              "3     0.741         0.4215  2.65   3.0  3.15  ...     n     y   \n",
              "4     0.408         0.4404  2.65   3.0  3.15  ...     n     y   \n",
              "\n",
              "                DATE NETWORKSIZE BETWEENNESS NBETWEENNESS DENSITY BROKERAGE  \\\n",
              "0  06/19/09 03:21 PM       180.0     14861.6        93.29    0.03   15661.0   \n",
              "1  07/02/09 08:41 AM       180.0     14861.6        93.29    0.03   15661.0   \n",
              "2  06/15/09 01:15 PM       180.0     14861.6        93.29    0.03   15661.0   \n",
              "3  06/22/09 04:48 AM       180.0     14861.6        93.29    0.03   15661.0   \n",
              "4  07/20/09 02:31 AM       180.0     14861.6        93.29    0.03   15661.0   \n",
              "\n",
              "   NBROKERAGE  TRANSITIVITY  \n",
              "0        0.49           0.1  \n",
              "1        0.49           0.1  \n",
              "2        0.49           0.1  \n",
              "3        0.49           0.1  \n",
              "4        0.49           0.1  \n",
              "\n",
              "[5 rows x 25 columns]"
            ],
            "text/html": [
              "\n",
              "  <div id=\"df-134f4a9f-a9ae-4da4-8180-9af4478ad875\">\n",
              "    <div class=\"colab-df-container\">\n",
              "      <div>\n",
              "<style scoped>\n",
              "    .dataframe tbody tr th:only-of-type {\n",
              "        vertical-align: middle;\n",
              "    }\n",
              "\n",
              "    .dataframe tbody tr th {\n",
              "        vertical-align: top;\n",
              "    }\n",
              "\n",
              "    .dataframe thead th {\n",
              "        text-align: right;\n",
              "    }\n",
              "</style>\n",
              "<table border=\"1\" class=\"dataframe\">\n",
              "  <thead>\n",
              "    <tr style=\"text-align: right;\">\n",
              "      <th></th>\n",
              "      <th>Unnamed: 0</th>\n",
              "      <th>#AUTHID</th>\n",
              "      <th>STATUS</th>\n",
              "      <th>sentiNEG</th>\n",
              "      <th>sentiPOS</th>\n",
              "      <th>sentiNEU</th>\n",
              "      <th>sentiCOMPOUND</th>\n",
              "      <th>sEXT</th>\n",
              "      <th>sNEU</th>\n",
              "      <th>sAGR</th>\n",
              "      <th>...</th>\n",
              "      <th>cCON</th>\n",
              "      <th>cOPN</th>\n",
              "      <th>DATE</th>\n",
              "      <th>NETWORKSIZE</th>\n",
              "      <th>BETWEENNESS</th>\n",
              "      <th>NBETWEENNESS</th>\n",
              "      <th>DENSITY</th>\n",
              "      <th>BROKERAGE</th>\n",
              "      <th>NBROKERAGE</th>\n",
              "      <th>TRANSITIVITY</th>\n",
              "    </tr>\n",
              "  </thead>\n",
              "  <tbody>\n",
              "    <tr>\n",
              "      <th>0</th>\n",
              "      <td>0</td>\n",
              "      <td>b7b7764cfa1c523e4e93ab2a79a946c4</td>\n",
              "      <td>likes the sound of thunder.</td>\n",
              "      <td>0.000</td>\n",
              "      <td>0.412</td>\n",
              "      <td>0.588</td>\n",
              "      <td>0.4215</td>\n",
              "      <td>2.65</td>\n",
              "      <td>3.0</td>\n",
              "      <td>3.15</td>\n",
              "      <td>...</td>\n",
              "      <td>n</td>\n",
              "      <td>y</td>\n",
              "      <td>06/19/09 03:21 PM</td>\n",
              "      <td>180.0</td>\n",
              "      <td>14861.6</td>\n",
              "      <td>93.29</td>\n",
              "      <td>0.03</td>\n",
              "      <td>15661.0</td>\n",
              "      <td>0.49</td>\n",
              "      <td>0.1</td>\n",
              "    </tr>\n",
              "    <tr>\n",
              "      <th>1</th>\n",
              "      <td>1</td>\n",
              "      <td>b7b7764cfa1c523e4e93ab2a79a946c4</td>\n",
              "      <td>is so sleepy it's not even funny that's she ca...</td>\n",
              "      <td>0.167</td>\n",
              "      <td>0.000</td>\n",
              "      <td>0.833</td>\n",
              "      <td>-0.3412</td>\n",
              "      <td>2.65</td>\n",
              "      <td>3.0</td>\n",
              "      <td>3.15</td>\n",
              "      <td>...</td>\n",
              "      <td>n</td>\n",
              "      <td>y</td>\n",
              "      <td>07/02/09 08:41 AM</td>\n",
              "      <td>180.0</td>\n",
              "      <td>14861.6</td>\n",
              "      <td>93.29</td>\n",
              "      <td>0.03</td>\n",
              "      <td>15661.0</td>\n",
              "      <td>0.49</td>\n",
              "      <td>0.1</td>\n",
              "    </tr>\n",
              "    <tr>\n",
              "      <th>2</th>\n",
              "      <td>2</td>\n",
              "      <td>b7b7764cfa1c523e4e93ab2a79a946c4</td>\n",
              "      <td>is sore and wants the knot of muscles at the b...</td>\n",
              "      <td>0.195</td>\n",
              "      <td>0.278</td>\n",
              "      <td>0.527</td>\n",
              "      <td>0.6280</td>\n",
              "      <td>2.65</td>\n",
              "      <td>3.0</td>\n",
              "      <td>3.15</td>\n",
              "      <td>...</td>\n",
              "      <td>n</td>\n",
              "      <td>y</td>\n",
              "      <td>06/15/09 01:15 PM</td>\n",
              "      <td>180.0</td>\n",
              "      <td>14861.6</td>\n",
              "      <td>93.29</td>\n",
              "      <td>0.03</td>\n",
              "      <td>15661.0</td>\n",
              "      <td>0.49</td>\n",
              "      <td>0.1</td>\n",
              "    </tr>\n",
              "    <tr>\n",
              "      <th>3</th>\n",
              "      <td>3</td>\n",
              "      <td>b7b7764cfa1c523e4e93ab2a79a946c4</td>\n",
              "      <td>likes how the day sounds in this new song.</td>\n",
              "      <td>0.000</td>\n",
              "      <td>0.259</td>\n",
              "      <td>0.741</td>\n",
              "      <td>0.4215</td>\n",
              "      <td>2.65</td>\n",
              "      <td>3.0</td>\n",
              "      <td>3.15</td>\n",
              "      <td>...</td>\n",
              "      <td>n</td>\n",
              "      <td>y</td>\n",
              "      <td>06/22/09 04:48 AM</td>\n",
              "      <td>180.0</td>\n",
              "      <td>14861.6</td>\n",
              "      <td>93.29</td>\n",
              "      <td>0.03</td>\n",
              "      <td>15661.0</td>\n",
              "      <td>0.49</td>\n",
              "      <td>0.1</td>\n",
              "    </tr>\n",
              "    <tr>\n",
              "      <th>4</th>\n",
              "      <td>4</td>\n",
              "      <td>b7b7764cfa1c523e4e93ab2a79a946c4</td>\n",
              "      <td>is home. &lt;3</td>\n",
              "      <td>0.000</td>\n",
              "      <td>0.592</td>\n",
              "      <td>0.408</td>\n",
              "      <td>0.4404</td>\n",
              "      <td>2.65</td>\n",
              "      <td>3.0</td>\n",
              "      <td>3.15</td>\n",
              "      <td>...</td>\n",
              "      <td>n</td>\n",
              "      <td>y</td>\n",
              "      <td>07/20/09 02:31 AM</td>\n",
              "      <td>180.0</td>\n",
              "      <td>14861.6</td>\n",
              "      <td>93.29</td>\n",
              "      <td>0.03</td>\n",
              "      <td>15661.0</td>\n",
              "      <td>0.49</td>\n",
              "      <td>0.1</td>\n",
              "    </tr>\n",
              "  </tbody>\n",
              "</table>\n",
              "<p>5 rows × 25 columns</p>\n",
              "</div>\n",
              "      <button class=\"colab-df-convert\" onclick=\"convertToInteractive('df-134f4a9f-a9ae-4da4-8180-9af4478ad875')\"\n",
              "              title=\"Convert this dataframe to an interactive table.\"\n",
              "              style=\"display:none;\">\n",
              "        \n",
              "  <svg xmlns=\"http://www.w3.org/2000/svg\" height=\"24px\"viewBox=\"0 0 24 24\"\n",
              "       width=\"24px\">\n",
              "    <path d=\"M0 0h24v24H0V0z\" fill=\"none\"/>\n",
              "    <path d=\"M18.56 5.44l.94 2.06.94-2.06 2.06-.94-2.06-.94-.94-2.06-.94 2.06-2.06.94zm-11 1L8.5 8.5l.94-2.06 2.06-.94-2.06-.94L8.5 2.5l-.94 2.06-2.06.94zm10 10l.94 2.06.94-2.06 2.06-.94-2.06-.94-.94-2.06-.94 2.06-2.06.94z\"/><path d=\"M17.41 7.96l-1.37-1.37c-.4-.4-.92-.59-1.43-.59-.52 0-1.04.2-1.43.59L10.3 9.45l-7.72 7.72c-.78.78-.78 2.05 0 2.83L4 21.41c.39.39.9.59 1.41.59.51 0 1.02-.2 1.41-.59l7.78-7.78 2.81-2.81c.8-.78.8-2.07 0-2.86zM5.41 20L4 18.59l7.72-7.72 1.47 1.35L5.41 20z\"/>\n",
              "  </svg>\n",
              "      </button>\n",
              "      \n",
              "  <style>\n",
              "    .colab-df-container {\n",
              "      display:flex;\n",
              "      flex-wrap:wrap;\n",
              "      gap: 12px;\n",
              "    }\n",
              "\n",
              "    .colab-df-convert {\n",
              "      background-color: #E8F0FE;\n",
              "      border: none;\n",
              "      border-radius: 50%;\n",
              "      cursor: pointer;\n",
              "      display: none;\n",
              "      fill: #1967D2;\n",
              "      height: 32px;\n",
              "      padding: 0 0 0 0;\n",
              "      width: 32px;\n",
              "    }\n",
              "\n",
              "    .colab-df-convert:hover {\n",
              "      background-color: #E2EBFA;\n",
              "      box-shadow: 0px 1px 2px rgba(60, 64, 67, 0.3), 0px 1px 3px 1px rgba(60, 64, 67, 0.15);\n",
              "      fill: #174EA6;\n",
              "    }\n",
              "\n",
              "    [theme=dark] .colab-df-convert {\n",
              "      background-color: #3B4455;\n",
              "      fill: #D2E3FC;\n",
              "    }\n",
              "\n",
              "    [theme=dark] .colab-df-convert:hover {\n",
              "      background-color: #434B5C;\n",
              "      box-shadow: 0px 1px 3px 1px rgba(0, 0, 0, 0.15);\n",
              "      filter: drop-shadow(0px 1px 2px rgba(0, 0, 0, 0.3));\n",
              "      fill: #FFFFFF;\n",
              "    }\n",
              "  </style>\n",
              "\n",
              "      <script>\n",
              "        const buttonEl =\n",
              "          document.querySelector('#df-134f4a9f-a9ae-4da4-8180-9af4478ad875 button.colab-df-convert');\n",
              "        buttonEl.style.display =\n",
              "          google.colab.kernel.accessAllowed ? 'block' : 'none';\n",
              "\n",
              "        async function convertToInteractive(key) {\n",
              "          const element = document.querySelector('#df-134f4a9f-a9ae-4da4-8180-9af4478ad875');\n",
              "          const dataTable =\n",
              "            await google.colab.kernel.invokeFunction('convertToInteractive',\n",
              "                                                     [key], {});\n",
              "          if (!dataTable) return;\n",
              "\n",
              "          const docLinkHtml = 'Like what you see? Visit the ' +\n",
              "            '<a target=\"_blank\" href=https://colab.research.google.com/notebooks/data_table.ipynb>data table notebook</a>'\n",
              "            + ' to learn more about interactive tables.';\n",
              "          element.innerHTML = '';\n",
              "          dataTable['output_type'] = 'display_data';\n",
              "          await google.colab.output.renderOutput(dataTable, element);\n",
              "          const docLink = document.createElement('div');\n",
              "          docLink.innerHTML = docLinkHtml;\n",
              "          element.appendChild(docLink);\n",
              "        }\n",
              "      </script>\n",
              "    </div>\n",
              "  </div>\n",
              "  "
            ]
          },
          "metadata": {},
          "execution_count": 3
        }
      ],
      "source": [
        "status_data = pd.read_csv(\"mypersonality_cleaned.csv\")\n",
        "status_data.head()"
      ]
    },
    {
      "cell_type": "code",
      "execution_count": null,
      "metadata": {
        "id": "9q5naHpKVZ4b"
      },
      "outputs": [],
      "source": [
        "p = []\n",
        "r = []\n",
        "a = []\n",
        "f= []\n",
        "b = []\n",
        "\n",
        "def summarize_metrics(tp, tn, fp, fn):\n",
        "    precision = tp / (tp + fp)\n",
        "    recall = tp / (tp + fn)\n",
        "    accuracy = (tp + tn) / (tp + tn + fp + fn)\n",
        "    f1_score = (2 * recall * precision) / (recall + precision)\n",
        "    balanced_accuracy = ((tp/(tp+fn)) + (tn/(tn+fp))) / 2\n",
        "\n",
        "    p.append(precision)\n",
        "    r.append(recall)\n",
        "    a.append(accuracy)\n",
        "    f.append(f1_score)\n",
        "    b.append(balanced_accuracy)\n",
        "    print(\"Balanced accuracy: \",balanced_accuracy)\n",
        "    print(\"Precison:\", precision)\n",
        "    print(\"Recall:\", recall)\n",
        "    print(\"Accuracy:\", accuracy)\n",
        "    print(\"F1 score:\", f1_score)\n",
        "\n",
        "    return p,r,a,f"
      ]
    },
    {
      "cell_type": "code",
      "execution_count": null,
      "metadata": {
        "id": "4ynKvTajVc9z"
      },
      "outputs": [],
      "source": [
        "status_data = status_data.dropna()"
      ]
    },
    {
      "cell_type": "code",
      "execution_count": null,
      "metadata": {
        "id": "rBMme0IWVf1i"
      },
      "outputs": [],
      "source": [
        " status_data = status_data.drop(['STATUS', '#AUTHID', 'sEXT', 'sNEU', 'sAGR',\n",
        "                                    'sCON', 'sOPN', 'DATE'], axis=1)"
      ]
    },
    {
      "cell_type": "code",
      "execution_count": null,
      "metadata": {
        "id": "S4m8ENijVgWt"
      },
      "outputs": [],
      "source": [
        " status_data = status_data.drop(['BROKERAGE', 'BETWEENNESS', 'NBROKERAGE',\n",
        "                                    'NBETWEENNESS', 'DENSITY', 'TRANSITIVITY', 'NETWORKSIZE'], axis=1)\n"
      ]
    },
    {
      "cell_type": "code",
      "execution_count": null,
      "metadata": {
        "id": "h-IeYOteVgqs"
      },
      "outputs": [],
      "source": [
        "new_columns = status_data.columns.values\n",
        "new_columns[0] = \"rowID\"\n",
        "status_data.columns = new_columns"
      ]
    },
    {
      "cell_type": "code",
      "execution_count": null,
      "metadata": {
        "id": "4Q8sLCltWS9F"
      },
      "outputs": [],
      "source": [
        "cols = status_data.columns.tolist()\n",
        "cols = cols[:5] + cols[5:10]\n",
        "status_data = status_data[cols]"
      ]
    },
    {
      "cell_type": "code",
      "execution_count": null,
      "metadata": {
        "id": "za4pOormWV0v"
      },
      "outputs": [],
      "source": [
        "features = ['cEXT', 'cNEU', 'cOPN', 'cAGR', 'cCON']\n",
        "for feature in features:\n",
        "  status_data[feature] = status_data[feature].map({'y': 1.0, 'n': 0.0}).astype(int)"
      ]
    },
    {
      "cell_type": "code",
      "execution_count": null,
      "metadata": {
        "id": "UYQbXWljWV9y"
      },
      "outputs": [],
      "source": [
        "from sklearn.model_selection import train_test_split\n",
        "\n",
        "train_data, test_data = train_test_split(status_data, test_size=0.50,random_state=42)\n"
      ]
    },
    {
      "cell_type": "code",
      "execution_count": null,
      "metadata": {
        "id": "4cDnizscWqts"
      },
      "outputs": [],
      "source": [
        "train = train_data.values\n",
        "test = test_data.values"
      ]
    },
    {
      "cell_type": "code",
      "execution_count": null,
      "metadata": {
        "id": "OXoNgnEOagVP"
      },
      "outputs": [],
      "source": [
        "from sklearn.linear_model import LogisticRegression\n",
        "model = LogisticRegression()\n",
        "model = model.fit(train[0:,1:5],train[0:,7])"
      ]
    },
    {
      "cell_type": "code",
      "execution_count": null,
      "metadata": {
        "id": "owfK_gZLXE_e"
      },
      "outputs": [],
      "source": [
        "output = model.predict(test[:, 1:5])\n",
        "rowID = [TEST.rowID for TEST in test_data.itertuples()]\n",
        "result_df = pd.DataFrame({\"rowID\": rowID,\"cOPN\": list(output)})"
      ]
    },
    {
      "cell_type": "code",
      "execution_count": null,
      "metadata": {
        "id": "noAiVoILXGGQ"
      },
      "outputs": [],
      "source": [
        " # Build the confusion matrix to assess the model\n",
        "tp_count = 0\n",
        "tn_count = 0\n",
        "fp_count = 0\n",
        "fn_count = 0\n",
        "for row in rowID:\n",
        "  test_cEXT_val = int(test_data.loc[test_data['rowID'] == row].cOPN)\n",
        "  result_cEXT_val = int(result_df.loc[result_df['rowID'] == row].cOPN)\n",
        "  if test_cEXT_val == 1:\n",
        "    if result_cEXT_val == 1:\n",
        "        tp_count += 1\n",
        "    else:\n",
        "        fn_count += 1\n",
        "  else:\n",
        "    if result_cEXT_val == 1:\n",
        "        fp_count += 1\n",
        "    else:\n",
        "        tn_count += 1\n"
      ]
    },
    {
      "cell_type": "code",
      "execution_count": null,
      "metadata": {
        "colab": {
          "base_uri": "https://localhost:8080/",
          "height": 314
        },
        "id": "xlDqapsFWded",
        "outputId": "ccdd81fc-41e0-48c4-ce88-e118387e80ba"
      },
      "outputs": [
        {
          "output_type": "stream",
          "name": "stdout",
          "text": [
            "3300 110 1122 426\n"
          ]
        },
        {
          "output_type": "display_data",
          "data": {
            "text/plain": [
              "<Figure size 432x288 with 1 Axes>"
            ],
            "image/png": "[encoded data removed]"
          },
          "metadata": {
            "needs_background": "light"
          }
        }
      ],
      "source": [
        "print(tp_count, tn_count, fp_count, fn_count)\n",
        "\n",
        "\n",
        "data = np.array([[tp_count, fn_count ], [fp_count, tn_count ]])\n",
        "\n",
        "fig, ax = plt.subplots()\n",
        "im = ax.imshow(data, cmap='coolwarm')\n",
        "\n",
        "ax.set_xticks(np.arange(len(['A', 'B'])))\n",
        "ax.set_yticks(np.arange(len(['C', 'D'])))\n",
        "\n",
        "ax.set_xticklabels(['A', 'B'])\n",
        "ax.set_yticklabels(['C', 'D'])\n",
        "\n",
        "for i in range(len(['A', 'B'])):\n",
        "    for j in range(len(['C', 'D'])):\n",
        "        text = ax.text(j, i, data[i, j],\n",
        "                       ha=\"center\", va=\"center\", color=\"w\")\n",
        "\n",
        "ax.set_title(\"Contingency Table\")\n",
        "fig.tight_layout()\n",
        "plt.show()"
      ]
    },
    {
      "cell_type": "code",
      "execution_count": null,
      "metadata": {
        "colab": {
          "base_uri": "https://localhost:8080/"
        },
        "id": "XIU5bPVvXzhk",
        "outputId": "1956d6c7-fab2-4972-90f9-45caf8d5a630"
      },
      "outputs": [
        {
          "output_type": "stream",
          "name": "stdout",
          "text": [
            "Balanced accuracy:  0.4874769956291696\n",
            "Precison: 0.746268656716418\n",
            "Recall: 0.8856682769726248\n",
            "Accuracy: 0.6877773295683743\n",
            "F1 score: 0.8100147275405007\n"
          ]
        },
        {
          "output_type": "execute_result",
          "data": {
            "text/plain": [
              "([0.746268656716418],\n",
              " [0.8856682769726248],\n",
              " [0.6877773295683743],\n",
              " [0.8100147275405007])"
            ]
          },
          "metadata": {},
          "execution_count": 17
        }
      ],
      "source": [
        "\n",
        "#after adding random state\n",
        "summarize_metrics(tp_count, tn_count, fp_count, fn_count)"
      ]
    },
    {
      "cell_type": "code",
      "execution_count": null,
      "metadata": {
        "id": "R58e0cJxXz2t",
        "colab": {
          "base_uri": "https://localhost:8080/"
        },
        "outputId": "280ac093-8847-401a-a346-ee905a0c1c2b"
      },
      "outputs": [
        {
          "output_type": "stream",
          "name": "stdout",
          "text": [
            "Balanced accuracy:  0.4777359351820153\n",
            "Precison: 0.7594235033259423\n",
            "Recall: 0.8989501312335958\n",
            "Accuracy: 0.7036290322580645\n",
            "F1 score: 0.8233173076923077\n",
            "Balanced accuracy:  0.4762164812874752\n",
            "Precison: 0.750375939849624\n",
            "Recall: 0.8824049513704686\n",
            "Accuracy: 0.6875\n",
            "F1 score: 0.8110524177163754\n",
            "Balanced accuracy:  0.4832899920540988\n",
            "Precison: 0.7523545706371191\n",
            "Recall: 0.9017264276228419\n",
            "Accuracy: 0.7001008064516129\n",
            "F1 score: 0.8202959830866808\n",
            "Balanced accuracy:  0.488426010920936\n",
            "Precison: 0.7480176211453744\n",
            "Recall: 0.909967845659164\n",
            "Accuracy: 0.7014925373134329\n",
            "F1 score: 0.821083172147002\n",
            "Balanced accuracy:  0.4858958881236666\n",
            "Precison: 0.7478868063212054\n",
            "Recall: 0.907671721677074\n",
            "Accuracy: 0.6998319327731093\n",
            "F1 score: 0.8200685069514407\n",
            "Balanced accuracy:  0.485903411009794\n",
            "Precison: 0.7504810776138551\n",
            "Recall: 0.8914285714285715\n",
            "Accuracy: 0.6937481993661769\n",
            "F1 score: 0.8149051018631378\n",
            "Balanced accuracy:  0.48833488452257845\n",
            "Precison: 0.7514140271493213\n",
            "Recall: 0.8856666666666667\n",
            "Accuracy: 0.6919586589362239\n",
            "F1 score: 0.8130354957160344\n",
            "Balanced accuracy:  0.4831724592643587\n",
            "Precison: 0.744987146529563\n",
            "Recall: 0.8632707774798928\n",
            "Accuracy: 0.6748823661214429\n",
            "F1 score: 0.7997792189871672\n",
            "Balanced accuracy:  0.4874769956291696\n",
            "Precison: 0.746268656716418\n",
            "Recall: 0.8856682769726248\n",
            "Accuracy: 0.6877773295683743\n",
            "F1 score: 0.8100147275405007\n",
            "Balanced accuracy:  0.4881276605228554\n",
            "Precison: 0.7426549431696333\n",
            "Recall: 0.8489825937729836\n",
            "Accuracy: 0.667033370003667\n",
            "F1 score: 0.7922672157401052\n",
            "Balanced accuracy:  0.49310354180228\n",
            "Precison: 0.7428955453149002\n",
            "Recall: 0.8717890941865706\n",
            "Accuracy: 0.6793277310924369\n",
            "F1 score: 0.8021978021978022\n",
            "Balanced accuracy:  0.49632054489852656\n",
            "Precison: 0.742505894240485\n",
            "Recall: 0.9193077564637198\n",
            "Accuracy: 0.7027614024201055\n",
            "F1 score: 0.8215017700763928\n",
            "Balanced accuracy:  0.4924918345319771\n",
            "Precison: 0.7417572932849992\n",
            "Recall: 0.8306591919582448\n",
            "Accuracy: 0.6583117257274561\n",
            "F1 score: 0.783695057450301\n",
            "Balanced accuracy:  0.49460827019067455\n",
            "Precison: 0.7421279416639045\n",
            "Recall: 0.8085951607078368\n",
            "Accuracy: 0.6482452601855587\n",
            "F1 score: 0.773937089526443\n",
            "Balanced accuracy:  0.49650078781840057\n",
            "Precison: 0.7409269442262373\n",
            "Recall: 0.8005432014938041\n",
            "Accuracy: 0.6440186562460608\n",
            "F1 score: 0.7695822454308094\n",
            "Balanced accuracy:  0.4959651824596828\n",
            "Precison: 0.7408618127786033\n",
            "Recall: 0.7963584091998084\n",
            "Accuracy: 0.6418317712658679\n",
            "F1 score: 0.7676083442383188\n",
            "Balanced accuracy:  0.49653936509571767\n",
            "Precison: 0.7411429347088367\n",
            "Recall: 0.8236536430834214\n",
            "Accuracy: 0.6553501400560224\n",
            "F1 score: 0.7802229208345243\n",
            "Balanced accuracy:  0.4978894110793822\n",
            "Precison: 0.7430038510911425\n",
            "Recall: 0.8257954059066914\n",
            "Accuracy: 0.6578919435304108\n",
            "F1 score: 0.7822150145280087\n"
          ]
        }
      ],
      "source": [
        "#visualizing Social metrics at different test size and sample size\n",
        "\n",
        "test_size = [0.1,0.15,0.2,0.25,0.3,0.35,0.4,0.45,0.5,0.55,0.6,0.65,0.7,0.75,0.8,0.85,0.9,0.95]\n",
        "\n",
        "for i in test_size :\n",
        "    train_data, test_data = train_test_split(status_data, test_size=i,random_state=42)\n",
        "    train = train_data.values\n",
        "    test = test_data.values\n",
        "    cmodel =LogisticRegression()\n",
        "    model = cmodel.fit(train[0:,1:5],train[0:,7])\n",
        "    output = model.predict(test[:, 1:5])\n",
        "    rowID = [TEST.rowID for TEST in test_data.itertuples()]\n",
        "    result_df = pd.DataFrame({\"rowID\": rowID,\n",
        "                                  \"cOPN\": list(output)})\n",
        "    tp_count = 0\n",
        "    tn_count = 0\n",
        "    fp_count = 0\n",
        "    fn_count = 0\n",
        "    for row in rowID:\n",
        "      test_cEXT_val = int(test_data.loc[test_data['rowID'] == row].cOPN)\n",
        "      result_cEXT_val = int(result_df.loc[result_df['rowID'] == row].cOPN)\n",
        "      if test_cEXT_val == 1:\n",
        "        if result_cEXT_val == 1:\n",
        "            tp_count += 1\n",
        "        else:\n",
        "            fn_count += 1\n",
        "      else:\n",
        "        if result_cEXT_val == 1:\n",
        "            fp_count += 1\n",
        "        else:\n",
        "            tn_count += 1\n",
        "\n",
        "    x = summarize_metrics(tp_count, tn_count, fp_count, fn_count)\n",
        ""
      ]
    },
    {
      "cell_type": "code",
      "execution_count": null,
      "metadata": {
        "colab": {
          "base_uri": "https://localhost:8080/"
        },
        "id": "PeYyQBznRs-U",
        "outputId": "d0f019e7-0647-4c3f-c6bf-5d7c346081e2"
      },
      "outputs": [
        {
          "output_type": "execute_result",
          "data": {
            "text/plain": [
              "0.4874769956291696"
            ]
          },
          "metadata": {},
          "execution_count": 19
        }
      ],
      "source": [
        "#value deleter\n",
        "p.pop(0)\n",
        "r.pop(0)\n",
        "a.pop(0)\n",
        "f.pop(0)\n",
        "b.pop(0)"
      ]
    },
    {
      "cell_type": "code",
      "execution_count": null,
      "metadata": {
        "colab": {
          "base_uri": "https://localhost:8080/"
        },
        "id": "VVxPG_KjRs-U",
        "outputId": "180a7677-6f5a-49b2-8f04-e6d2c90067fc"
      },
      "outputs": [
        {
          "output_type": "stream",
          "name": "stdout",
          "text": [
            "[0.4777359351820153, 0.4762164812874752, 0.4832899920540988, 0.488426010920936, 0.4858958881236666, 0.485903411009794, 0.48833488452257845, 0.4831724592643587, 0.4874769956291696, 0.4881276605228554, 0.49310354180228, 0.49632054489852656, 0.4924918345319771, 0.49460827019067455, 0.49650078781840057, 0.4959651824596828, 0.49653936509571767, 0.4978894110793822]\n",
            "18\n"
          ]
        }
      ],
      "source": [
        "print(b)\n",
        "print(len(b))"
      ]
    },
    {
      "cell_type": "code",
      "execution_count": null,
      "metadata": {
        "colab": {
          "base_uri": "https://localhost:8080/",
          "height": 312
        },
        "id": "uO3GSvPZRs-V",
        "outputId": "2f902ab2-578a-45ff-c78f-ecee8a279c7b"
      },
      "outputs": [
        {
          "output_type": "execute_result",
          "data": {
            "text/plain": [
              "[<matplotlib.lines.Line2D at 0x7f2330f657f0>]"
            ]
          },
          "metadata": {},
          "execution_count": 21
        },
        {
          "output_type": "display_data",
          "data": {
            "text/plain": [
              "<Figure size 432x288 with 1 Axes>"
            ],
            "image/png": "[encoded data removed]"
          },
          "metadata": {}
        }
      ],
      "source": [
        "import matplotlib.pyplot as plt\n",
        "\n",
        "\n",
        "plt.style.use(\"dark_background\")\n",
        "plt.xlabel(\"test size\")\n",
        "plt.ylabel(\"score\")\n",
        "plt.title(\"Accuracy\")\n",
        "plt.plot(test_size,a,'m--')"
      ]
    },
    {
      "cell_type": "code",
      "execution_count": null,
      "metadata": {
        "colab": {
          "base_uri": "https://localhost:8080/",
          "height": 312
        },
        "id": "8xehRUR4Rs-V",
        "outputId": "8dd0b6ca-3126-4a4a-c215-f16d83abccb4"
      },
      "outputs": [
        {
          "output_type": "execute_result",
          "data": {
            "text/plain": [
              "[<matplotlib.lines.Line2D at 0x7f232e526eb0>]"
            ]
          },
          "metadata": {},
          "execution_count": 22
        },
        {
          "output_type": "display_data",
          "data": {
            "text/plain": [
              "<Figure size 432x288 with 1 Axes>"
            ],
            "image/png": "[encoded data removed]"
          },
          "metadata": {}
        }
      ],
      "source": [
        "\n",
        "\n",
        "plt.style.use(\"dark_background\")\n",
        "plt.xlabel(\"test size\")\n",
        "plt.ylabel(\"score\")\n",
        "plt.title(\"Balanced Accuracy\")\n",
        "plt.plot(test_size,b,'c--')"
      ]
    },
    {
      "cell_type": "code",
      "execution_count": null,
      "metadata": {
        "colab": {
          "base_uri": "https://localhost:8080/",
          "height": 312
        },
        "id": "xZ-GeC83Rs-W",
        "outputId": "d1b95f94-beda-4002-e5a2-af4738497bed"
      },
      "outputs": [
        {
          "output_type": "execute_result",
          "data": {
            "text/plain": [
              "[<matplotlib.lines.Line2D at 0x7f232e493130>]"
            ]
          },
          "metadata": {},
          "execution_count": 23
        },
        {
          "output_type": "display_data",
          "data": {
            "text/plain": [
              "<Figure size 432x288 with 1 Axes>"
            ],
            "image/png": "[encoded data removed]"
          },
          "metadata": {}
        }
      ],
      "source": [
        "plt.style.use(\"dark_background\")\n",
        "plt.xlabel(\"test size\")\n",
        "plt.ylabel(\"score\")\n",
        "plt.title(\"Recall\")\n",
        "plt.plot(test_size,r,'b--')"
      ]
    },
    {
      "cell_type": "code",
      "execution_count": null,
      "metadata": {
        "colab": {
          "base_uri": "https://localhost:8080/",
          "height": 312
        },
        "id": "vwtDfP9ARs-W",
        "outputId": "4668c4bd-b0cd-4a8e-b4a2-0e27c80ccd85"
      },
      "outputs": [
        {
          "output_type": "execute_result",
          "data": {
            "text/plain": [
              "[<matplotlib.lines.Line2D at 0x7f232e4bc2e0>]"
            ]
          },
          "metadata": {},
          "execution_count": 24
        },
        {
          "output_type": "display_data",
          "data": {
            "text/plain": [
              "<Figure size 432x288 with 1 Axes>"
            ],
            "image/png": "[encoded data removed]"
          },
          "metadata": {}
        }
      ],
      "source": [
        "plt.style.use(\"dark_background\")\n",
        "plt.xlabel(\"test size\")\n",
        "plt.ylabel(\"score\")\n",
        "plt.title(\"Precision\")\n",
        "plt.plot(test_size,p,'y--')"
      ]
    },
    {
      "cell_type": "code",
      "execution_count": null,
      "metadata": {
        "colab": {
          "base_uri": "https://localhost:8080/",
          "height": 312
        },
        "id": "XULEU5M6Rs-X",
        "outputId": "0c6e70df-81b2-4ec8-b47b-6b796ac55d0a"
      },
      "outputs": [
        {
          "output_type": "execute_result",
          "data": {
            "text/plain": [
              "[<matplotlib.lines.Line2D at 0x7f232e3d3610>]"
            ]
          },
          "metadata": {},
          "execution_count": 25
        },
        {
          "output_type": "display_data",
          "data": {
            "text/plain": [
              "<Figure size 432x288 with 1 Axes>"
            ],
            "image/png": "[encoded data removed]"
          },
          "metadata": {}
        }
      ],
      "source": [
        "plt.style.use(\"dark_background\")\n",
        "plt.xlabel(\"test size\")\n",
        "plt.ylabel(\"score\")\n",
        "plt.title(\"F1-Scores\")\n",
        "plt.plot(test_size,f,'w--')"
      ]
    }
  ],
  "metadata": {
    "colab": {
      "provenance": []
    },
    "kernelspec": {
      "display_name": "Python 3 (ipykernel)",
      "language": "python",
      "name": "python3"
    },
    "language_info": {
      "codemirror_mode": {
        "name": "ipython",
        "version": 3
      },
      "file_extension": ".py",
      "mimetype": "text/x-python",
      "name": "python",
      "nbconvert_exporter": "python",
      "pygments_lexer": "ipython3",
      "version": "3.11.0"
    }
  },
  "nbformat": 4,
  "nbformat_minor": 0
}